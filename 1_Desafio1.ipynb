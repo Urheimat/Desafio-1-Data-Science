{
 "cells": [
  {
   "cell_type": "markdown",
   "metadata": {
    "collapsed": true
   },
   "source": [
    "# DESAFIO 1"
   ]
  },
  {
   "cell_type": "markdown",
   "metadata": {},
   "source": [
    "## Paso 1. Abrir el dataset sat_scores.csv. Investigar la estructura de los datos y responder"
   ]
  },
  {
   "cell_type": "markdown",
   "metadata": {},
   "source": [
    "### 1. ¿Qué es lo que describen los datos?"
   ]
  },
  {
   "cell_type": "code",
   "execution_count": 1,
   "metadata": {
    "collapsed": true
   },
   "outputs": [],
   "source": [
    "#Describen el porcentaje de alumnos que rindió el SAT en cada Estado,\n",
    "#así como el promedio obtenido en las áreas de Matemática y Expresión Verbal"
   ]
  },
  {
   "cell_type": "markdown",
   "metadata": {
    "collapsed": true
   },
   "source": [
    "### 2. ¿Se ve algún problema en los datos? ¿Están completos?"
   ]
  },
  {
   "cell_type": "code",
   "execution_count": 2,
   "metadata": {
    "collapsed": true
   },
   "outputs": [],
   "source": [
    "#No detecto ningún problema."
   ]
  },
  {
   "cell_type": "markdown",
   "metadata": {
    "collapsed": true
   },
   "source": [
    "### 3. ¿Qué representan las filas? ¿Y las columnas?"
   ]
  },
  {
   "cell_type": "code",
   "execution_count": 3,
   "metadata": {
    "collapsed": false
   },
   "outputs": [],
   "source": [
    "#Las filas representan los valores: el porcentaje de participación y los promedios de los scores para cada Estado.\n",
    "#Las columnas representan los Estados, las áreas de Matemática y Expresión Verbal, y la participación (rate).\n"
   ]
  },
  {
   "cell_type": "markdown",
   "metadata": {
    "collapsed": true
   },
   "source": [
    "### 4. Creá un diccionario de datos para el dataset en formato texto. En el mismo deben describirse las diferentes variables, su nivel de medición y dar alguna(s) medida(s) descriptiva(s) de cada una."
   ]
  },
  {
   "cell_type": "code",
   "execution_count": 9,
   "metadata": {
    "collapsed": false
   },
   "outputs": [],
   "source": [
    "#Variables: State (String), Rate (porcentaje, es int), Verbal Expression Average Score(float), Math Average Score(float). "
   ]
  },
  {
   "cell_type": "markdown",
   "metadata": {
    "collapsed": true
   },
   "source": [
    "## Paso 2. Cargar el dataset"
   ]
  },
  {
   "cell_type": "markdown",
   "metadata": {},
   "source": [
    "### 5. Cargá los datos en una lista de listas"
   ]
  },
  {
   "cell_type": "code",
   "execution_count": 27,
   "metadata": {
    "collapsed": false
   },
   "outputs": [
    {
     "name": "stdout",
     "output_type": "stream",
     "text": [
      "  State  Rate  Verbal  Math\n",
      "0    CT    82     509   510\n",
      "1    NJ    81     499   513\n",
      "2    MA    79     511   515\n",
      "3    NY    77     495   505\n",
      "4    NH    72     520   516\n"
     ]
    }
   ],
   "source": [
    "\n",
    "import pandas as pd\n",
    "import csv\n",
    "\n",
    "sat_csv_path = \"sat_scores.csv\"\n",
    "\n",
    "rows = []\n",
    "\n",
    "with open(sat_csv_path, 'r') as f:\n",
    "    reader = csv.reader(f)\n",
    "    for row in reader:\n",
    "        rows.append(row)\n",
    "\n",
    "        \n",
    "sat_scores = pd.read_csv('sat_scores.csv')\n",
    "sat_scores.columns = [\"State\", \"Rate\", \"Verbal\", \"Math\"]\n",
    "\n",
    "print sat_scores.head()"
   ]
  },
  {
   "cell_type": "markdown",
   "metadata": {},
   "source": [
    "### 6. Visualizá (print) los datos"
   ]
  },
  {
   "cell_type": "code",
   "execution_count": 13,
   "metadata": {
    "collapsed": false
   },
   "outputs": [
    {
     "name": "stdout",
     "output_type": "stream",
     "text": [
      "   State  Rate  Verbal  Math\n",
      "0     CT    82     509   510\n",
      "1     NJ    81     499   513\n",
      "2     MA    79     511   515\n",
      "3     NY    77     495   505\n",
      "4     NH    72     520   516\n",
      "5     RI    71     501   499\n",
      "6     PA    71     500   499\n",
      "7     VT    69     511   506\n",
      "8     ME    69     506   500\n",
      "9     VA    68     510   501\n",
      "10    DE    67     501   499\n",
      "11    MD    65     508   510\n",
      "12    NC    65     493   499\n",
      "13    GA    63     491   489\n",
      "14    IN    60     499   501\n",
      "15    SC    57     486   488\n",
      "16    DC    56     482   474\n",
      "17    OR    55     526   526\n",
      "18    FL    54     498   499\n",
      "19    WA    53     527   527\n",
      "20    TX    53     493   499\n",
      "21    HI    52     485   515\n",
      "22    AK    51     514   510\n",
      "23    CA    51     498   517\n",
      "24    AZ    34     523   525\n",
      "25    NV    33     509   515\n",
      "26    CO    31     539   542\n",
      "27    OH    26     534   439\n",
      "28    MT    23     539   539\n",
      "29    WV    18     527   512\n",
      "30    ID    17     543   542\n",
      "31    TN    13     562   553\n",
      "32    NM    13     551   542\n",
      "33    IL    12     576   589\n",
      "34    KY    12     550   550\n",
      "35    WY    11     547   545\n",
      "36    MI    11     561   572\n",
      "37    MN     9     580   589\n",
      "38    KS     9     577   580\n",
      "39    AL     9     559   554\n",
      "40    NE     8     562   568\n",
      "41    OK     8     567   561\n",
      "42    MO     8     577   577\n",
      "43    LA     7     564   562\n",
      "44    WI     6     584   596\n",
      "45    AR     6     562   550\n",
      "46    UT     5     575   570\n",
      "47    IA     5     593   603\n",
      "48    SD     4     577   582\n",
      "49    ND     4     592   599\n",
      "50    MS     4     566   551\n",
      "51   All    45     506   514\n"
     ]
    }
   ],
   "source": [
    "print sat_scores"
   ]
  },
  {
   "cell_type": "markdown",
   "metadata": {},
   "source": [
    "### 7. Extraé una lista de las etiquetas de los datos y removela del dataset"
   ]
  },
  {
   "cell_type": "code",
   "execution_count": 22,
   "metadata": {
    "collapsed": false
   },
   "outputs": [],
   "source": [
    "etiquetas = rows[0]\n",
    "del etiquetas"
   ]
  },
  {
   "cell_type": "markdown",
   "metadata": {},
   "source": [
    "### 8. Creá una lista con los nombres de los Estados del dataset. (Pista: usá la lista de etiquetas como índice)"
   ]
  },
  {
   "cell_type": "code",
   "execution_count": 23,
   "metadata": {
    "collapsed": false
   },
   "outputs": [
    {
     "name": "stdout",
     "output_type": "stream",
     "text": [
      "0      CT\n",
      "1      NJ\n",
      "2      MA\n",
      "3      NY\n",
      "4      NH\n",
      "5      RI\n",
      "6      PA\n",
      "7      VT\n",
      "8      ME\n",
      "9      VA\n",
      "10     DE\n",
      "11     MD\n",
      "12     NC\n",
      "13     GA\n",
      "14     IN\n",
      "15     SC\n",
      "16     DC\n",
      "17     OR\n",
      "18     FL\n",
      "19     WA\n",
      "20     TX\n",
      "21     HI\n",
      "22     AK\n",
      "23     CA\n",
      "24     AZ\n",
      "25     NV\n",
      "26     CO\n",
      "27     OH\n",
      "28     MT\n",
      "29     WV\n",
      "30     ID\n",
      "31     TN\n",
      "32     NM\n",
      "33     IL\n",
      "34     KY\n",
      "35     WY\n",
      "36     MI\n",
      "37     MN\n",
      "38     KS\n",
      "39     AL\n",
      "40     NE\n",
      "41     OK\n",
      "42     MO\n",
      "43     LA\n",
      "44     WI\n",
      "45     AR\n",
      "46     UT\n",
      "47     IA\n",
      "48     SD\n",
      "49     ND\n",
      "50     MS\n",
      "51    All\n",
      "Name: State, dtype: object\n"
     ]
    }
   ],
   "source": [
    "State_list = sat_scores[\"State\"]\n",
    "print State_list"
   ]
  },
  {
   "cell_type": "markdown",
   "metadata": {},
   "source": [
    "### 9. Imprimí los tipos de cada columna"
   ]
  },
  {
   "cell_type": "code",
   "execution_count": 41,
   "metadata": {
    "collapsed": false
   },
   "outputs": [
    {
     "data": {
      "text/plain": [
       "[numpy.int64,\n",
       " numpy.int64,\n",
       " numpy.int64,\n",
       " numpy.int64,\n",
       " numpy.int64,\n",
       " numpy.int64,\n",
       " numpy.int64,\n",
       " numpy.int64,\n",
       " numpy.int64,\n",
       " numpy.int64,\n",
       " numpy.int64,\n",
       " numpy.int64,\n",
       " numpy.int64,\n",
       " numpy.int64,\n",
       " numpy.int64,\n",
       " numpy.int64,\n",
       " numpy.int64,\n",
       " numpy.int64,\n",
       " numpy.int64,\n",
       " numpy.int64,\n",
       " numpy.int64,\n",
       " numpy.int64,\n",
       " numpy.int64,\n",
       " numpy.int64,\n",
       " numpy.int64,\n",
       " numpy.int64,\n",
       " numpy.int64,\n",
       " numpy.int64,\n",
       " numpy.int64,\n",
       " numpy.int64,\n",
       " numpy.int64,\n",
       " numpy.int64,\n",
       " numpy.int64,\n",
       " numpy.int64,\n",
       " numpy.int64,\n",
       " numpy.int64,\n",
       " numpy.int64,\n",
       " numpy.int64,\n",
       " numpy.int64,\n",
       " numpy.int64,\n",
       " numpy.int64,\n",
       " numpy.int64,\n",
       " numpy.int64,\n",
       " numpy.int64,\n",
       " numpy.int64,\n",
       " numpy.int64,\n",
       " numpy.int64,\n",
       " numpy.int64,\n",
       " numpy.int64,\n",
       " numpy.int64,\n",
       " numpy.int64,\n",
       " numpy.int64]"
      ]
     },
     "execution_count": 41,
     "metadata": {},
     "output_type": "execute_result"
    }
   ],
   "source": [
    "#tipo de datos de columna \"State\"\n",
    "[type(state) for state in State_list]\n",
    "\n",
    "#tipo de datos de columna \"Rate\"\n",
    "Rate_column = sat_scores[\"Rate\"]\n",
    "[type(rate) for rate in Rate_column]\n",
    "\n",
    "Verbal_column = sat_scores[\"Verbal\"]\n",
    "[type(verbal) for verbal in Verbal_column]\n",
    "\n",
    "Math_column = sat_scores[\"Math\"]\n",
    "[type(math) for math in Math_column]"
   ]
  },
  {
   "cell_type": "markdown",
   "metadata": {},
   "source": [
    "### 10. ¿Hay algún tipo que deba ser cambiado? Si es así, transformalo al tipo que corresponde"
   ]
  },
  {
   "cell_type": "code",
   "execution_count": 42,
   "metadata": {
    "collapsed": true
   },
   "outputs": [],
   "source": [
    "#Hay que pasar los valores numéricos(Rate, Verbal y Math) a float, porque si vienen de un archivo csv se leen como strings.\n",
    "\n"
   ]
  },
  {
   "cell_type": "markdown",
   "metadata": {},
   "source": [
    "### 11. Creá un diccionario para cada columna vinculando cada Estado con su respectivo valor en esa columna"
   ]
  },
  {
   "cell_type": "code",
   "execution_count": 43,
   "metadata": {
    "collapsed": false
   },
   "outputs": [
    {
     "name": "stdout",
     "output_type": "stream",
     "text": [
      "0     82\n",
      "1     81\n",
      "2     79\n",
      "3     77\n",
      "4     72\n",
      "5     71\n",
      "6     71\n",
      "7     69\n",
      "8     69\n",
      "9     68\n",
      "10    67\n",
      "11    65\n",
      "12    65\n",
      "13    63\n",
      "14    60\n",
      "15    57\n",
      "16    56\n",
      "17    55\n",
      "18    54\n",
      "19    53\n",
      "20    53\n",
      "21    52\n",
      "22    51\n",
      "23    51\n",
      "24    34\n",
      "25    33\n",
      "26    31\n",
      "27    26\n",
      "28    23\n",
      "29    18\n",
      "30    17\n",
      "31    13\n",
      "32    13\n",
      "33    12\n",
      "34    12\n",
      "35    11\n",
      "36    11\n",
      "37     9\n",
      "38     9\n",
      "39     9\n",
      "40     8\n",
      "41     8\n",
      "42     8\n",
      "43     7\n",
      "44     6\n",
      "45     6\n",
      "46     5\n",
      "47     5\n",
      "48     4\n",
      "49     4\n",
      "50     4\n",
      "51    45\n",
      "Name: Rate, dtype: int64\n"
     ]
    }
   ],
   "source": [
    "#Asignar un índice a cada Estado.\n",
    "\n",
    "[Rate_column\n"
   ]
  },
  {
   "cell_type": "markdown",
   "metadata": {},
   "source": [
    "### 12. Creá un diccionario para cada una de las columnas numéricas"
   ]
  },
  {
   "cell_type": "code",
   "execution_count": null,
   "metadata": {
    "collapsed": true
   },
   "outputs": [],
   "source": [
    "\n",
    "dic_Rate =\n",
    "\n",
    "dic_Verbal =\n",
    "\n",
    "dic_Math =\n",
    "\n"
   ]
  },
  {
   "cell_type": "markdown",
   "metadata": {},
   "source": [
    "## Paso 3. Describir los datos"
   ]
  },
  {
   "cell_type": "markdown",
   "metadata": {},
   "source": [
    "### 13. Imprimí el máximo y el mínimo de cada columna"
   ]
  },
  {
   "cell_type": "code",
   "execution_count": null,
   "metadata": {
    "collapsed": true
   },
   "outputs": [],
   "source": [
    "min()\n",
    "\n",
    "max()"
   ]
  },
  {
   "cell_type": "markdown",
   "metadata": {},
   "source": [
    "### 14. Escribí una función que use solo lists comprehensions (no for loops) para calcular el Desvío Estándar. Imprimí el Desvío Estándar de cada columna numérica."
   ]
  },
  {
   "cell_type": "code",
   "execution_count": null,
   "metadata": {
    "collapsed": true
   },
   "outputs": [],
   "source": []
  },
  {
   "cell_type": "markdown",
   "metadata": {},
   "source": [
    "## Paso 4. Visualizar los datos"
   ]
  },
  {
   "cell_type": "markdown",
   "metadata": {},
   "source": [
    "### 15. Usando MatPlotLib y PyPlot, graficá la distribución del Rate. ¿Qué tipo de gráfico le correspondería? ¿Por qué?"
   ]
  },
  {
   "cell_type": "code",
   "execution_count": null,
   "metadata": {
    "collapsed": true
   },
   "outputs": [],
   "source": []
  },
  {
   "cell_type": "markdown",
   "metadata": {},
   "source": [
    "### 16. Graficá la distribución de la variable Math"
   ]
  },
  {
   "cell_type": "code",
   "execution_count": null,
   "metadata": {
    "collapsed": true
   },
   "outputs": [],
   "source": []
  },
  {
   "cell_type": "markdown",
   "metadata": {},
   "source": [
    "### 17. Graficá la distribución de la variable Verbal"
   ]
  },
  {
   "cell_type": "code",
   "execution_count": null,
   "metadata": {
    "collapsed": true
   },
   "outputs": [],
   "source": []
  },
  {
   "cell_type": "markdown",
   "metadata": {},
   "source": [
    "### 18. ¿Cuál sería un supuesto acerca de la distribución que genera los datos?"
   ]
  },
  {
   "cell_type": "code",
   "execution_count": null,
   "metadata": {
    "collapsed": true
   },
   "outputs": [],
   "source": []
  },
  {
   "cell_type": "markdown",
   "metadata": {},
   "source": [
    "### 19. ¿Qué podrías decir de ese supuesto en relación a los datos analizados?"
   ]
  },
  {
   "cell_type": "code",
   "execution_count": null,
   "metadata": {
    "collapsed": true
   },
   "outputs": [],
   "source": []
  },
  {
   "cell_type": "markdown",
   "metadata": {},
   "source": [
    "### 20. Graficá algunos scatterplots. BONUS: Usá a gráfico PyPlot para presentar scatterplots múltiples"
   ]
  },
  {
   "cell_type": "code",
   "execution_count": null,
   "metadata": {
    "collapsed": true
   },
   "outputs": [],
   "source": []
  },
  {
   "cell_type": "markdown",
   "metadata": {},
   "source": [
    "### 21. ¿Hay alguna relación interesante para mencionar? ¿Cuál? ¿Qué tipo de relación es?"
   ]
  },
  {
   "cell_type": "code",
   "execution_count": null,
   "metadata": {
    "collapsed": true
   },
   "outputs": [],
   "source": []
  },
  {
   "cell_type": "markdown",
   "metadata": {},
   "source": [
    "### 22. Creá boxplots para cada variable (según corresponda)"
   ]
  },
  {
   "cell_type": "code",
   "execution_count": null,
   "metadata": {
    "collapsed": true
   },
   "outputs": [],
   "source": []
  }
 ],
 "metadata": {
  "anaconda-cloud": {},
  "celltoolbar": "Raw Cell Format",
  "kernelspec": {
   "display_name": "Python 2",
   "language": "python",
   "name": "python2"
  },
  "language_info": {
   "codemirror_mode": {
    "name": "ipython",
    "version": 2
   },
   "file_extension": ".py",
   "mimetype": "text/x-python",
   "name": "python",
   "nbconvert_exporter": "python",
   "pygments_lexer": "ipython2",
   "version": "2.7.13"
  }
 },
 "nbformat": 4,
 "nbformat_minor": 1
}
